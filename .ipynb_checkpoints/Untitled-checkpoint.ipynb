{
 "cells": [
  {
   "cell_type": "markdown",
   "id": "c1f19fba-3f19-4bd7-a02f-a9877e60dd49",
   "metadata": {},
   "source": [
    "# Cubesat Design"
   ]
  },
  {
   "cell_type": "code",
   "execution_count": null,
   "id": "f0e4ab62-7f54-4431-8d87-a3ff004c02ee",
   "metadata": {},
   "outputs": [],
   "source": []
  }
 ],
 "metadata": {
  "kernelspec": {
   "display_name": "Python 3 (ipykernel)",
   "language": "python",
   "name": "python3"
  },
  "language_info": {
   "codemirror_mode": {
    "name": "ipython",
    "version": 3
   },
   "file_extension": ".py",
   "mimetype": "text/x-python",
   "name": "python",
   "nbconvert_exporter": "python",
   "pygments_lexer": "ipython3",
   "version": "3.12.6"
  }
 },
 "nbformat": 4,
 "nbformat_minor": 5
}
